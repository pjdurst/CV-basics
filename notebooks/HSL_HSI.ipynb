{
 "cells": [
  {
   "cell_type": "markdown",
   "id": "466f1614-aebc-4a9f-8e58-8c1ce98c458d",
   "metadata": {},
   "source": [
    "Now let's look into the HSL and HSI colorspaces\n"
   ]
  },
  {
   "cell_type": "code",
   "execution_count": null,
   "id": "5b764459-b24a-4653-94ab-49316bcf7f65",
   "metadata": {},
   "outputs": [],
   "source": [
    "# Starting with the usual imports\n",
    "import numpy as np\n",
    "import matplotlib as mp\n",
    "from matplotlib import pyplot as plt\n",
    "import cv2\n",
    "from PIL import Image"
   ]
  },
  {
   "cell_type": "code",
   "execution_count": null,
   "id": "5e29dac8-fb77-4ab2-a5b3-afe67c6fa820",
   "metadata": {},
   "outputs": [],
   "source": [
    "# Load the RIT image and convert to HSL\n",
    "baseImg = cv2.imread('RIT.jpg')\n",
    "rgb = cv2.cvtColor(baseImg, cv2.COLOR_BGR2HLS)\n",
    "plt.imshow(rgb)\n",
    "plt.show()"
   ]
  },
  {
   "cell_type": "code",
   "execution_count": null,
   "id": "65d458ba-0f23-4aec-b0fd-59e17718489d",
   "metadata": {},
   "outputs": [],
   "source": [
    "# Load the RIT image and convert to HSI\n",
    "baseImg = cv2.imread('RIT.jpg')\n",
    "img = cv2.cvtColor(baseImg, cv2.COLOR_BGR2HSI)\n",
    "plt.imshow(img)\n",
    "plt.show()"
   ]
  },
  {
   "cell_type": "markdown",
   "id": "3f084118-b3de-4291-a7b9-8542b7eeea06",
   "metadata": {},
   "source": [
    "Sad trombone noises...\n",
    "openCV does not have a function to directly convert to BGR to HSI\n",
    "Can we do this one manually?"
   ]
  },
  {
   "cell_type": "code",
   "execution_count": null,
   "id": "e6a6a86d-ba91-41ce-bfe0-90ae30ede776",
   "metadata": {},
   "outputs": [],
   "source": [
    "# Can we do this manually?\n",
    "bgr_image = cv2.imread('RIT.jpg')\n",
    "\n",
    "# Get the dimensions of the image\n",
    "height, width, _ = bgr_image.shape\n",
    "\n",
    "# Create an empty array for the HSI image\n",
    "hsi_image = np.zeros((height, width, 3), dtype=np.uint8)\n",
    "\n",
    "# Iterate over each pixel\n",
    "for i in range(height):\n",
    "    for j in range(width):\n",
    "        # Get the B, G, R components and normalize them to [0, 1]\n",
    "        b = bgr_image[i, j, 0] / 255.0\n",
    "        g = bgr_image[i, j, 1] / 255.0\n",
    "        r = bgr_image[i, j, 2] / 255.0\n",
    "\n",
    "        # Calculate Intensity\n",
    "        intensity = (r + g + b) / 3\n",
    "\n",
    "        # Calculate Saturation\n",
    "        min_val = min(r, g, b)\n",
    "        saturation = 0 if intensity == 0 else 1 - (min_val / intensity)\n",
    "\n",
    "        # Calculate Hue\n",
    "        if saturation == 0:\n",
    "            hue = 0\n",
    "        else:\n",
    "            num = 0.5 * ((r - g) + (r - b))\n",
    "            den = np.sqrt((r - g) ** 2 + (r - b) * (g - b))\n",
    "            theta = np.arccos(num / (den + 1e-6))  # Add a small epsilon to avoid division by zero\n",
    "            if b <= g:\n",
    "                hue = theta\n",
    "            else:\n",
    "                hue = 2 * np.pi - theta\n",
    "\n",
    "        hue = np.degrees(hue)  # Convert to degrees\n",
    "        hue = hue / 2  # Scale hue to [0, 179] for OpenCV\n",
    "\n",
    "        # Scale Saturation and Intensity to [0, 255]\n",
    "        saturation = saturation * 255\n",
    "        intensity = intensity * 255\n",
    "\n",
    "        # Set the HSI values to the image\n",
    "        hsi_image[i, j] = [hue, saturation, intensity]\n",
    "   \n",
    "\n",
    "\n",
    "plt.imshow(hsi_image)\n",
    "plt.show()"
   ]
  },
  {
   "cell_type": "markdown",
   "id": "f092c849-d069-45da-bd18-4ca99b327a1c",
   "metadata": {},
   "source": [
    "There's lots more ways to convert between RGB, HSV, HSL, and HSI in openCV. \n",
    "Like HSI, there can sometimes be intermediate steps that you have to write on your own.\n",
    "It's up to you to explore the wider range of options as you go through the rest of this class."
   ]
  }
 ],
 "metadata": {
  "kernelspec": {
   "display_name": "Python 3 (ipykernel)",
   "language": "python",
   "name": "python3"
  },
  "language_info": {
   "codemirror_mode": {
    "name": "ipython",
    "version": 3
   },
   "file_extension": ".py",
   "mimetype": "text/x-python",
   "name": "python",
   "nbconvert_exporter": "python",
   "pygments_lexer": "ipython3",
   "version": "3.12.8"
  }
 },
 "nbformat": 4,
 "nbformat_minor": 5
}
