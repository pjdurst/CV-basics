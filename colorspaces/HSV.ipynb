{
 "cells": [
  {
   "cell_type": "markdown",
   "id": "466f1614-aebc-4a9f-8e58-8c1ce98c458d",
   "metadata": {},
   "source": [
    "Let's look into the HSV color space\n",
    "We'll start by creating our own HSV transformer"
   ]
  },
  {
   "cell_type": "code",
   "execution_count": null,
   "id": "5b764459-b24a-4653-94ab-49316bcf7f65",
   "metadata": {},
   "outputs": [],
   "source": [
    "# Starting with the usual imports\n",
    "import numpy as np\n",
    "import matplotlib as mp\n",
    "from matplotlib import pyplot as plt\n",
    "import cv2\n",
    "from PIL import Image"
   ]
  },
  {
   "cell_type": "code",
   "execution_count": null,
   "id": "5e29dac8-fb77-4ab2-a5b3-afe67c6fa820",
   "metadata": {},
   "outputs": [],
   "source": [
    "# Load the RIT image\n",
    "baseImg = cv2.imread('RIT.jpg')\n",
    "rgb = cv2.cvtColor(baseImg, cv2.COLOR_BGR2RGB)\n",
    "plt.imshow(rgb, cmap = plt.cm.Spectral)\n",
    "plt.show()"
   ]
  },
  {
   "cell_type": "code",
   "execution_count": null,
   "id": "65d458ba-0f23-4aec-b0fd-59e17718489d",
   "metadata": {},
   "outputs": [],
   "source": [
    "# Let openCV convert for us\n",
    "baseImg = cv2.imread('RIT.jpg')\n",
    "img = cv2.cvtColor(baseImg, cv2.COLOR_BGR2HSV)\n",
    "plt.imshow(img, cmap = plt.cm.Spectral)\n",
    "plt.show()"
   ]
  },
  {
   "cell_type": "code",
   "execution_count": null,
   "id": "e6a6a86d-ba91-41ce-bfe0-90ae30ede776",
   "metadata": {},
   "outputs": [],
   "source": [
    "# Can we do this manually?\n",
    "baseImg = cv2.imread('RIT.jpg')\n",
    "# Split the image into Blue, Green, and Red channels\n",
    "b, g, r = cv2.split(baseImg)\n",
    "\n",
    "# Calculate element-wise maximum and minimum of r, g, and b\n",
    "cmax = np.maximum(np.maximum(r, g), b)  # maximum of r, g, b\n",
    "cmin = np.minimum(np.minimum(r, g), b)  # minimum of r, g, b\n",
    "\n",
    "# Calculate the difference between cmax and cmin\n",
    "diff = cmax - cmin\n",
    "\n",
    "# Initialize the saturation array (s) with the same shape as cmax\n",
    "s = np.zeros_like(cmax, dtype=np.float32)\n",
    "\n",
    "# Create a mask for cmax == 0 (this will give s = 0)\n",
    "mask = cmax == 0\n",
    "# Set saturation to 0 where cmax is 0\n",
    "s[mask] = 0\n",
    "\n",
    "# For all other values of cmax (where cmax != 0), compute saturation\n",
    "mask_non_zero = ~mask\n",
    "s[mask_non_zero] = (diff[mask_non_zero] / cmax[mask_non_zero]) * 255\n",
    "\n",
    "# Initialize the hue array (h) with the same shape as cmax\n",
    "h = np.zeros_like(cmax, dtype=np.float32)\n",
    "\n",
    "# Compute hue based on the maximum channel\n",
    "# Check if cmax equals cmin (this would give h = 0)\n",
    "mask_h = cmax == cmin\n",
    "h[mask_h] = 0\n",
    "\n",
    "# If cmax equals r, compute h\n",
    "mask_h = (cmax == r) & (cmax != cmin)\n",
    "h[mask_h] = (60 * ((g[mask_h] - b[mask_h]) / diff[mask_h]) + 360) % 360\n",
    "\n",
    "# If cmax equals g, compute h\n",
    "mask_h = (cmax == g) & (cmax != cmin)\n",
    "h[mask_h] = (60 * ((b[mask_h] - r[mask_h]) / diff[mask_h]) + 120) % 360\n",
    "\n",
    "# If cmax equals b, compute h\n",
    "mask_h = (cmax == b) & (cmax != cmin)\n",
    "h[mask_h] = (60 * ((r[mask_h] - g[mask_h]) / diff[mask_h]) + 240) % 360\n",
    "\n",
    "# Ok, we took the very long way around. What does our manually \n",
    "# Convert the hue and saturation to an image\n",
    "# Note: You need to convert the hue and saturation to proper color format to visualize them\n",
    "hsv_image = np.stack([h, s, np.full_like(h, 255, dtype=np.float32)], axis=-1)\n",
    "rgb_image = cv2.cvtColor(hsv_image.astype(np.uint8), cv2.COLOR_HSV2RGB)\n",
    "\n",
    "# Plot the original and processed image\n",
    "plt.figure(figsize=(12, 6))\n",
    "\n",
    "# Original Image\n",
    "plt.subplot(1, 2, 1)\n",
    "plt.title('Original Image')\n",
    "plt.imshow(baseImg)\n",
    "plt.axis('off')\n",
    "\n",
    "# Processed Image (in RGB)\n",
    "plt.subplot(1, 2, 2)\n",
    "plt.title('Processed Image (RGB to HSV)')\n",
    "plt.imshow(rgb_image)\n",
    "plt.axis('off')\n",
    "\n",
    "plt.show()"
   ]
  },
  {
   "cell_type": "markdown",
   "id": "c7694b63-af73-4803-8dec-76a25ac84445",
   "metadata": {},
   "source": [
    "Looks like we forgot to change our initial images r,g,b coordinate space!\n",
    "\n",
    "This is why paying attention to pixel coordinates is so important.\n",
    "\n",
    "This also shows that, by using transform equations, we can turn pixels into pretty much anything. The question is, \"what changes are useful in CV?\"\n"
   ]
  },
  {
   "cell_type": "code",
   "execution_count": null,
   "id": "a6126bad-b342-467f-9a4e-765d4318991a",
   "metadata": {},
   "outputs": [],
   "source": []
  }
 ],
 "metadata": {
  "kernelspec": {
   "display_name": "Python 3 (ipykernel)",
   "language": "python",
   "name": "python3"
  },
  "language_info": {
   "codemirror_mode": {
    "name": "ipython",
    "version": 3
   },
   "file_extension": ".py",
   "mimetype": "text/x-python",
   "name": "python",
   "nbconvert_exporter": "python",
   "pygments_lexer": "ipython3",
   "version": "3.12.6"
  }
 },
 "nbformat": 4,
 "nbformat_minor": 5
}
